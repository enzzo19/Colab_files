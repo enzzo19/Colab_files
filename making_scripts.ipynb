{
  "nbformat": 4,
  "nbformat_minor": 0,
  "metadata": {
    "colab": {
      "provenance": [],
      "collapsed_sections": [],
      "toc_visible": true,
      "authorship_tag": "ABX9TyOK8G1aje5tiomLUj4mDNZM"
    },
    "kernelspec": {
      "name": "python3",
      "display_name": "Python 3"
    },
    "language_info": {
      "name": "python"
    }
  },
  "cells": [
    {
      "cell_type": "markdown",
      "source": [
        "# Sintaxis de una condicion\n",
        "\n",
        "## Esto es un subtitulo\n",
        "\n",
        "![imagen de prueba](https://www.google.com/images/branding/googlelogo/1x/googlelogo_light_color_272x92dp.png)\n",
        "\n",
        "si necesito infrmacion entrar [aqui](https://docs.python.org/3/)\n",
        "\n"
      ],
      "metadata": {
        "id": "yUJnmp9EggnD"
      }
    },
    {
      "cell_type": "code",
      "execution_count": null,
      "metadata": {
        "colab": {
          "base_uri": "https://localhost:8080/"
        },
        "id": "rwi3RTuTe92c",
        "outputId": "cf3de225-712a-41a9-bedc-b6f60aad6829"
      },
      "outputs": [
        {
          "output_type": "stream",
          "name": "stdout",
          "text": [
            "Hello\n"
          ]
        }
      ],
      "source": [
        "print(\"Hello\") # Esto es un saludo\n",
        "\n",
        "\"\"\"\n",
        "Comenario\n",
        "de\n",
        "varias lineas\n",
        "\"\"\""
      ]
    },
    {
      "cell_type": "code",
      "source": [
        "# Como ejecutar comandos de la terminal de linux dentro de celdas de codigo\n",
        "!pwd"
      ],
      "metadata": {
        "colab": {
          "base_uri": "https://localhost:8080/"
        },
        "id": "ZkhJdpt_i7ZM",
        "outputId": "266ac1d9-86ce-487d-c5fd-0ef39252b6ac"
      },
      "execution_count": 19,
      "outputs": [
        {
          "output_type": "stream",
          "name": "stdout",
          "text": [
            "/content\n"
          ]
        }
      ]
    },
    {
      "cell_type": "code",
      "source": [
        "print(\"Soy un script\")"
      ],
      "metadata": {
        "colab": {
          "base_uri": "https://localhost:8080/"
        },
        "id": "ayl9rvUjjFYw",
        "outputId": "a30e49af-157f-4e8d-a4b4-c33312a76c8b"
      },
      "execution_count": 6,
      "outputs": [
        {
          "output_type": "stream",
          "name": "stdout",
          "text": [
            "Soy un script\n"
          ]
        }
      ]
    },
    {
      "cell_type": "code",
      "source": [
        "!python script.py"
      ],
      "metadata": {
        "colab": {
          "base_uri": "https://localhost:8080/"
        },
        "id": "hr5tnXKgkk47",
        "outputId": "9863b131-b672-4087-bbd0-d0a923639ea2"
      },
      "execution_count": 45,
      "outputs": [
        {
          "output_type": "stream",
          "name": "stdout",
          "text": [
            "9\n"
          ]
        }
      ]
    },
    {
      "cell_type": "code",
      "source": [
        "from funcion import dame_random\n",
        "dame_random()"
      ],
      "metadata": {
        "colab": {
          "base_uri": "https://localhost:8080/"
        },
        "id": "Ien7OtmNlNBz",
        "outputId": "20e04cd8-098c-44e1-ef8c-67857a512ebc"
      },
      "execution_count": 55,
      "outputs": [
        {
          "output_type": "stream",
          "name": "stdout",
          "text": [
            "5\n"
          ]
        }
      ]
    },
    {
      "cell_type": "code",
      "source": [
        "import funcion\n",
        "funcion.dame_random()"
      ],
      "metadata": {
        "colab": {
          "base_uri": "https://localhost:8080/"
        },
        "id": "xb9uWFernjLW",
        "outputId": "ed8eec1f-7aa0-4e1e-9435-32ceb6927c12"
      },
      "execution_count": 56,
      "outputs": [
        {
          "output_type": "stream",
          "name": "stdout",
          "text": [
            "2\n"
          ]
        }
      ]
    },
    {
      "cell_type": "code",
      "source": [
        "import prueba\n",
        "prueba.mensaje()"
      ],
      "metadata": {
        "colab": {
          "base_uri": "https://localhost:8080/"
        },
        "id": "x9LGpKNfmc5e",
        "outputId": "920e2fe3-bc33-4f9b-99ca-200c6a3c4a2d"
      },
      "execution_count": 54,
      "outputs": [
        {
          "output_type": "stream",
          "name": "stdout",
          "text": [
            "Hola\n",
            "Hola ahora si me invocaron\n"
          ]
        }
      ]
    }
  ]
}